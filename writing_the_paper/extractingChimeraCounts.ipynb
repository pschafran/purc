{
 "cells": [
  {
   "cell_type": "code",
   "execution_count": 3,
   "metadata": {
    "collapsed": false
   },
   "outputs": [],
   "source": [
    "#!/usr/bin/env python\n",
    "import os"
   ]
  },
  {
   "cell_type": "code",
   "execution_count": 91,
   "metadata": {
    "collapsed": false
   },
   "outputs": [],
   "source": [
    "# set up\n",
    "mainDirectory = \"/Users/carlrothfels/Desktop/PURC_analysesForPaper/6_runsWchimeraCountsOutput/\"\n",
    "outDirectory = \"/Users/carlrothfels/Box Sync/R_Python_etal/git_repositories/ppp_repo/writing_the_paper/\"\n",
    "outHandle = \"chimeraCounts.csv\"\n",
    "\n",
    "loci = [\"APP\", \"GAP\", \"IBR\", \"PGI\"]\n",
    "regimes = [\"a\", \"c\", \"e\"]\n",
    "stringentRegimes = [\"Str_\" + regime for regime in regimes]\n",
    "regimes.extend(stringentRegimes)\n",
    "\n",
    "rounds = [\"R2\"] #3, 4 could be included\n",
    "os.chdir(mainDirectory)\n",
    "\n",
    "#os.getcwd()"
   ]
  },
  {
   "cell_type": "code",
   "execution_count": 92,
   "metadata": {
    "collapsed": false
   },
   "outputs": [
    {
     "name": "stdout",
     "output_type": "stream",
     "text": [
      "REGIME  a\n",
      "REGIME  c\n",
      "REGIME  e\n",
      "REGIME  Str_a\n",
      "REGIME  Str_c\n",
      "REGIME  Str_e\n"
     ]
    }
   ],
   "source": [
    "# Counting the chimeras found\n",
    "chimeraCounts = {}\n",
    "for thisround in rounds:\n",
    "    for regime in regimes:\n",
    "        print \"REGIME \", regime\n",
    "        lineCount = 0\n",
    "        chimeraSection = False\n",
    "        os.chdir(mainDirectory + thisround + regime)\n",
    "        countsFile = open(\"purc_cluster_counts.xls\", 'rU')\n",
    "        \n",
    "        for line in countsFile:\n",
    "            if \"**Chimeric clusters\" in line: #ie, we've got to the section of the file with the counts of chimeras\n",
    "                chimeraSection = True\n",
    "            if chimeraSection:\n",
    "                lineCount += 1\n",
    "                if lineCount > 1: # So that we skip the \"**Chimeric clusters ...\" line (the header)\n",
    "                    line = line.strip(\"\\n\")\n",
    "                    line = line.split(\"\\t\")\n",
    "                    if len(line[0]) > 0: # If there's something in the first column, it is the locus name\n",
    "                        locus = line[0]\n",
    "                        #print \"Working on \", locus\n",
    "                        chimeraCounts[thisround + regime, locus] = [0,0,0,0] #Make an entry in the dictionary with a key like \"[R2a, GAP]\"\n",
    "                        #print chimeraCounts\n",
    "                    else:\n",
    "                        for i in range(2,6):\n",
    "                            if len(line) >2: #The blank entries have a line of length two: the first tab, and then the taxon name\n",
    "                                # The [i-2] business is because I've set i to go through the columns I want (3,4,5,6), but need to index the list by (1,2,3,4)\n",
    "                                chimeraCounts[thisround + regime, locus][i-2] += int(line[i])                  \n",
    "        countsFile.close()\n",
    "            "
   ]
  },
  {
   "cell_type": "code",
   "execution_count": 107,
   "metadata": {
    "collapsed": false
   },
   "outputs": [],
   "source": [
    "# Printing it all to a CSV file\n",
    "os.chdir(outDirectory)\n",
    "outfile = open(outHandle, 'w')\n",
    "for thisround in rounds:\n",
    "    for regime in regimes: \n",
    "        for locus in loci:\n",
    "            outfile.write(thisround + regime + \",\") # printing the regime name (1st column)\n",
    "            outfile.write(locus + \",\") # printing the locus name\n",
    "            #print chimeraCounts[thisround + regime, locus]\n",
    "            for count in chimeraCounts[thisround + regime, locus]:\n",
    "                outfile.write(str(count) + \",\")\n",
    "            outfile.write(\"\\n\")\n",
    "outfile.close()"
   ]
  },
  {
   "cell_type": "code",
   "execution_count": null,
   "metadata": {
    "collapsed": false
   },
   "outputs": [],
   "source": []
  },
  {
   "cell_type": "code",
   "execution_count": null,
   "metadata": {
    "collapsed": false
   },
   "outputs": [],
   "source": []
  },
  {
   "cell_type": "code",
   "execution_count": null,
   "metadata": {
    "collapsed": true
   },
   "outputs": [],
   "source": []
  }
 ],
 "metadata": {
  "kernelspec": {
   "display_name": "Python 2",
   "language": "python",
   "name": "python2"
  },
  "language_info": {
   "codemirror_mode": {
    "name": "ipython",
    "version": 2
   },
   "file_extension": ".py",
   "mimetype": "text/x-python",
   "name": "python",
   "nbconvert_exporter": "python",
   "pygments_lexer": "ipython2",
   "version": "2.7.11"
  }
 },
 "nbformat": 4,
 "nbformat_minor": 0
}
